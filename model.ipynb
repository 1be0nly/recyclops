{
  "cells": [
    {
      "cell_type": "code",
      "execution_count": null,
      "metadata": {
        "id": "J6vA76u5Hu40"
      },
      "outputs": [],
      "source": [
        "# Menggunakan Kaggle API\n",
        "! chmod 600 /content/kaggle.json"
      ]
    },
    {
      "cell_type": "code",
      "execution_count": null,
      "metadata": {
        "colab": {
          "base_uri": "https://localhost:8080/"
        },
        "id": "Zv5lBBBbODFE",
        "outputId": "8e558bfe-5e82-4433-c0ad-1faa4ce219f1"
      },
      "outputs": [
        {
          "output_type": "stream",
          "name": "stdout",
          "text": [
            "Downloading waste-classification-data.zip to /content\n",
            " 99% 425M/427M [00:14<00:00, 28.0MB/s]\n",
            "100% 427M/427M [00:14<00:00, 30.8MB/s]\n"
          ]
        }
      ],
      "source": [
        "# Mendownload Dataset (Disimpan di folder 'content')\n",
        "! KAGGLE_CONFIG_DIR=/content/ kaggle datasets download -d techsash/waste-classification-data"
      ]
    },
    {
      "cell_type": "code",
      "execution_count": null,
      "metadata": {
        "id": "lXTH5KUkOXWO"
      },
      "outputs": [],
      "source": [
        "# Mengekstrak file (Disimpan di folder 'tmp')\n",
        "import zipfile\n",
        "zip_file = zipfile.ZipFile('/content/waste-classification-data.zip')\n",
        "zip_file.extractall('/tmp/')"
      ]
    },
    {
      "cell_type": "code",
      "execution_count": null,
      "metadata": {
        "id": "QiI35BfuO8gW"
      },
      "outputs": [],
      "source": [
        "# Menempatkan direktori training dan validation\n",
        "import os\n",
        "base_dir = '/tmp/DATASET/'\n",
        "train_dir = os.path.join(base_dir, 'TRAIN')\n",
        "val_dir = os.path.join(base_dir, 'TEST')\n",
        "\n",
        "# Direktori dengan gambar training sampah organik\n",
        "train_o_dir = os.path.join(train_dir, 'O')\n",
        "\n",
        "# Direktori dengan gambar training sampah daur ulang\n",
        "train_r_dir = os.path.join(train_dir, 'R')\n",
        "\n",
        "# Direktori dengan gambar validation sampah organik\n",
        "val_o_dir = os.path.join(val_dir, 'O')\n",
        "\n",
        "# Direktori dengan gambar validation sampah daur ulang\n",
        "val_o_dir = os.path.join(val_dir, 'R')"
      ]
    },
    {
      "cell_type": "code",
      "execution_count": null,
      "metadata": {
        "id": "0fCuSRzzZviL"
      },
      "outputs": [],
      "source": [
        "import tensorflow as tf\n",
        "from tensorflow.keras.optimizers import RMSprop\n",
        "\n",
        "def create_model():\n",
        "  model = tf.keras.models.Sequential([\n",
        "      tf.keras.layers.Conv2D(32, (3, 3), activation='relu', input_shape=(150,150,3)),\n",
        "      tf.keras.layers.MaxPooling2D(2,2),\n",
        "      tf.keras.layers.Conv2D(64, (3,3), activation='relu'),\n",
        "      tf.keras.layers.MaxPooling2D(2,2),\n",
        "      tf.keras.layers.Flatten(),\n",
        "      tf.keras.layers.Dense(512, activation='relu'),\n",
        "      tf.keras.layers.Dense(1, activation='sigmoid')\n",
        "  ])\n",
        "  model.compile(loss='binary_crossentropy',\n",
        "                optimizer=RMSprop(learning_rate=1e-4),\n",
        "                metrics=['accuracy'])\n",
        "  return model"
      ]
    },
    {
      "cell_type": "code",
      "execution_count": null,
      "metadata": {
        "colab": {
          "base_uri": "https://localhost:8080/"
        },
        "id": "auzZKUpmy-8V",
        "outputId": "fc790d31-e81f-4da0-afa2-3856d57039d4"
      },
      "outputs": [
        {
          "output_type": "stream",
          "name": "stdout",
          "text": [
            "Found 22564 images belonging to 2 classes.\n",
            "Found 2513 images belonging to 2 classes.\n"
          ]
        }
      ],
      "source": [
        "from tensorflow.keras.preprocessing.image import ImageDataGenerator\n",
        "\n",
        "# Rescale\n",
        "train_data = ImageDataGenerator(\n",
        "    rescale=1./255,\n",
        "    rotation_range=40,\n",
        "    width_shift_range=0.2,\n",
        "    height_shift_range=0.2,\n",
        "    shear_range=0.2,\n",
        "    zoom_range=0.2,\n",
        "    horizontal_flip=True,\n",
        "    fill_mode='nearest')\n",
        "\n",
        "val_data = ImageDataGenerator(rescale=1./255)\n",
        "\n",
        "train_generator = train_data.flow_from_directory(\n",
        "    train_dir,\n",
        "    target_size=(150,150),\n",
        "    batch_size=200,\n",
        "    class_mode='binary'\n",
        ")\n",
        "\n",
        "val_generator = val_data.flow_from_directory(\n",
        "    val_dir,\n",
        "    target_size=(150,150),\n",
        "    batch_size=100,\n",
        "    class_mode='binary'\n",
        ")"
      ]
    },
    {
      "cell_type": "code",
      "execution_count": null,
      "metadata": {
        "colab": {
          "base_uri": "https://localhost:8080/"
        },
        "id": "8dwKKLOvd-et",
        "outputId": "e7b49fd9-ed62-42a9-be71-f7a4f04fe898"
      },
      "outputs": [
        {
          "output_type": "stream",
          "name": "stdout",
          "text": [
            "Epoch 1/20\n",
            "113/113 - 167s - loss: 0.5601 - accuracy: 0.7340 - val_loss: 0.3653 - val_accuracy: 0.8715 - 167s/epoch - 1s/step\n",
            "Epoch 2/20\n",
            "113/113 - 156s - loss: 0.4594 - accuracy: 0.7922 - val_loss: 0.3520 - val_accuracy: 0.8711 - 156s/epoch - 1s/step\n",
            "Epoch 3/20\n",
            "113/113 - 154s - loss: 0.4454 - accuracy: 0.7987 - val_loss: 0.3525 - val_accuracy: 0.8707 - 154s/epoch - 1s/step\n",
            "Epoch 4/20\n",
            "113/113 - 154s - loss: 0.4340 - accuracy: 0.8063 - val_loss: 0.3544 - val_accuracy: 0.8679 - 154s/epoch - 1s/step\n",
            "Epoch 5/20\n",
            "113/113 - 153s - loss: 0.4241 - accuracy: 0.8120 - val_loss: 0.3517 - val_accuracy: 0.8631 - 153s/epoch - 1s/step\n",
            "Epoch 6/20\n",
            "113/113 - 153s - loss: 0.4175 - accuracy: 0.8150 - val_loss: 0.3778 - val_accuracy: 0.8500 - 153s/epoch - 1s/step\n",
            "Epoch 7/20\n",
            "113/113 - 150s - loss: 0.4099 - accuracy: 0.8181 - val_loss: 0.3584 - val_accuracy: 0.8559 - 150s/epoch - 1s/step\n",
            "Epoch 8/20\n",
            "113/113 - 150s - loss: 0.4035 - accuracy: 0.8212 - val_loss: 0.3591 - val_accuracy: 0.8552 - 150s/epoch - 1s/step\n",
            "Epoch 9/20\n",
            "113/113 - 148s - loss: 0.3975 - accuracy: 0.8253 - val_loss: 0.3509 - val_accuracy: 0.8579 - 148s/epoch - 1s/step\n",
            "Epoch 10/20\n",
            "113/113 - 158s - loss: 0.3938 - accuracy: 0.8269 - val_loss: 0.3620 - val_accuracy: 0.8528 - 158s/epoch - 1s/step\n",
            "Epoch 11/20\n",
            "113/113 - 148s - loss: 0.3910 - accuracy: 0.8295 - val_loss: 0.3726 - val_accuracy: 0.8484 - 148s/epoch - 1s/step\n",
            "Epoch 12/20\n",
            "113/113 - 149s - loss: 0.3878 - accuracy: 0.8293 - val_loss: 0.3471 - val_accuracy: 0.8631 - 149s/epoch - 1s/step\n",
            "Epoch 13/20\n",
            "113/113 - 146s - loss: 0.3834 - accuracy: 0.8335 - val_loss: 0.3499 - val_accuracy: 0.8508 - 146s/epoch - 1s/step\n",
            "Epoch 14/20\n",
            "113/113 - 148s - loss: 0.3821 - accuracy: 0.8327 - val_loss: 0.3634 - val_accuracy: 0.8444 - 148s/epoch - 1s/step\n",
            "Epoch 15/20\n",
            "113/113 - 147s - loss: 0.3772 - accuracy: 0.8351 - val_loss: 0.3757 - val_accuracy: 0.8480 - 147s/epoch - 1s/step\n",
            "Epoch 16/20\n",
            "113/113 - 147s - loss: 0.3784 - accuracy: 0.8345 - val_loss: 0.3510 - val_accuracy: 0.8544 - 147s/epoch - 1s/step\n",
            "Epoch 17/20\n",
            "113/113 - 148s - loss: 0.3744 - accuracy: 0.8371 - val_loss: 0.3994 - val_accuracy: 0.8289 - 148s/epoch - 1s/step\n",
            "Epoch 18/20\n",
            "113/113 - 150s - loss: 0.3738 - accuracy: 0.8379 - val_loss: 0.3699 - val_accuracy: 0.8472 - 150s/epoch - 1s/step\n",
            "Epoch 19/20\n",
            "113/113 - 149s - loss: 0.3711 - accuracy: 0.8386 - val_loss: 0.3450 - val_accuracy: 0.8540 - 149s/epoch - 1s/step\n",
            "Epoch 20/20\n",
            "113/113 - 149s - loss: 0.3674 - accuracy: 0.8428 - val_loss: 0.4174 - val_accuracy: 0.8341 - 149s/epoch - 1s/step\n"
          ]
        }
      ],
      "source": [
        "EPOCHS = 20\n",
        "model = create_model()\n",
        "\n",
        "history = model.fit(\n",
        "    train_generator,\n",
        "    steps_per_epoch=113,\n",
        "    epochs=EPOCHS,\n",
        "    validation_data=val_generator,\n",
        "    validation_steps=26,\n",
        "    verbose=2)"
      ]
    },
    {
      "cell_type": "code",
      "execution_count": null,
      "metadata": {
        "id": "yybPDfhGp1on"
      },
      "outputs": [],
      "source": [
        "import matplotlib.pyplot as plt\n",
        "\n",
        "def plot_loss_acc(history):\n",
        "  '''Plots the training and validation loss and accuracy from a history object'''\n",
        "  acc = history.history['accuracy']\n",
        "  val_acc = history.history['val_accuracy']\n",
        "  loss = history.history['loss']\n",
        "  val_loss = history.history['val_loss']\n",
        "\n",
        "  epochs = range(len(acc))\n",
        "\n",
        "  plt.plot(epochs, acc, 'bo', label='Training accuracy')\n",
        "  plt.plot(epochs, val_acc, 'b', label='Validation accuracy')\n",
        "  plt.title('Training and validation accuracy')\n",
        "\n",
        "  plt.figure()\n",
        "\n",
        "  plt.plot(epochs, loss, 'bo', label='Training Loss')\n",
        "  plt.plot(epochs, val_loss, 'b', label='Validation Loss')\n",
        "  plt.title('Training and validation loss')\n",
        "  plt.legend()\n",
        "\n",
        "  plt.show()"
      ]
    },
    {
      "cell_type": "code",
      "execution_count": null,
      "metadata": {
        "colab": {
          "base_uri": "https://localhost:8080/",
          "height": 887
        },
        "id": "t-Vy5BEcp8SV",
        "outputId": "99031446-5269-401e-d8cc-e4407fc5a865"
      },
      "outputs": [
        {
          "output_type": "display_data",
          "data": {
            "text/plain": [
              "<Figure size 640x480 with 1 Axes>"
            ],
            "image/png": "[encoded data removed]"
          },
          "metadata": {}
        },
        {
          "output_type": "display_data",
          "data": {
            "text/plain": [
              "<Figure size 640x480 with 1 Axes>"
            ],
            "image/png": "[encoded data removed]"
          },
          "metadata": {}
        }
      ],
      "source": [
        "plot_loss_acc(history)"
      ]
    },
    {
      "cell_type": "code",
      "source": [
        "export_dir = 'saved_model/1'\n",
        "tf.saved_model.save(model, export_dir)"
      ],
      "metadata": {
        "colab": {
          "base_uri": "https://localhost:8080/"
        },
        "id": "eW_sKZCsw0Ld",
        "outputId": "c57d6533-8bf7-42fd-9f2e-3df896795248"
      },
      "execution_count": null,
      "outputs": [
        {
          "output_type": "stream",
          "name": "stderr",
          "text": [
            "WARNING:absl:Found untraced functions such as _jit_compiled_convolution_op, _jit_compiled_convolution_op while saving (showing 2 of 2). These functions will not be directly callable after loading.\n"
          ]
        }
      ]
    },
    {
      "cell_type": "code",
      "source": [
        "# Convert the model.\n",
        "converter = tf.lite.TFLiteConverter.from_saved_model(export_dir)\n",
        "tflite_model = converter.convert()"
      ],
      "metadata": {
        "id": "SxVUAIXpzBAn"
      },
      "execution_count": null,
      "outputs": []
    },
    {
      "cell_type": "code",
      "source": [
        "import pathlib\n",
        "tflite_model_file = pathlib.Path('model.tflite')\n",
        "tflite_model_file.write_bytes(tflite_model)"
      ],
      "metadata": {
        "colab": {
          "base_uri": "https://localhost:8080/"
        },
        "id": "Kec-Efxxzb_u",
        "outputId": "6dbd58e4-1fac-4b9a-9b0a-ef5982dcccde"
      },
      "execution_count": null,
      "outputs": [
        {
          "output_type": "execute_result",
          "data": {
            "text/plain": [
              "169954364"
            ]
          },
          "metadata": {},
          "execution_count": 13
        }
      ]
    },
    {
      "cell_type": "code",
      "source": [],
      "metadata": {
        "id": "5t_4srY90OUQ"
      },
      "execution_count": null,
      "outputs": []
    }
  ],
  "metadata": {
    "accelerator": "GPU",
    "colab": {
      "provenance": []
    },
    "gpuClass": "standard",
    "kernelspec": {
      "display_name": "Python 3",
      "name": "python3"
    },
    "language_info": {
      "name": "python"
    }
  },
  "nbformat": 4,
  "nbformat_minor": 0
}